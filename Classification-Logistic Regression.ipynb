{
 "cells": [
  {
   "cell_type": "code",
   "execution_count": 7,
   "metadata": {},
   "outputs": [
    {
     "name": "stdout",
     "output_type": "stream",
     "text": [
      "root\n",
      " |-- age: integer (nullable = true)\n",
      " |-- job: string (nullable = true)\n",
      " |-- marital: string (nullable = true)\n",
      " |-- education: string (nullable = true)\n",
      " |-- default: string (nullable = true)\n",
      " |-- housing: string (nullable = true)\n",
      " |-- loan: string (nullable = true)\n",
      " |-- contact: string (nullable = true)\n",
      " |-- month: string (nullable = true)\n",
      " |-- day_of_week: string (nullable = true)\n",
      " |-- duration: integer (nullable = true)\n",
      " |-- campaign: integer (nullable = true)\n",
      " |-- pdays: integer (nullable = true)\n",
      " |-- previous: integer (nullable = true)\n",
      " |-- poutcome: string (nullable = true)\n",
      " |-- emp.var.rate: double (nullable = true)\n",
      " |-- cons.price.idx: double (nullable = true)\n",
      " |-- cons.conf.idx: double (nullable = true)\n",
      " |-- euribor3m: double (nullable = true)\n",
      " |-- nr.employed: double (nullable = true)\n",
      " |-- y: string (nullable = true)\n",
      "\n"
     ]
    }
   ],
   "source": [
    "from pyspark.sql import SparkSession\n",
    "\n",
    "spark = SparkSession.builder.appName('ml-bank').getOrCreate()\n",
    "sdf = spark.read.csv('D:/KULIAHHH/semester 8/BDATA/PROYEK/bank-additional-full.csv', header = True, inferSchema = True)\n",
    "sdf.printSchema()"
   ]
  },
  {
   "cell_type": "code",
   "execution_count": 23,
   "metadata": {},
   "outputs": [],
   "source": [
    "sdf = sdf.withColumnRenamed(\"emp.var.rate\",\"emp_var_rate\")\n",
    "sdf = sdf.withColumnRenamed(\"cons.price.idx\",\"cons_price_idx\")\n",
    "sdf = sdf.withColumnRenamed(\"cons.conf.idx\",\"cons_conf_idx\")\n",
    "sdf = sdf.withColumnRenamed(\"nr.employed\",\"nr_employed\")\n"
   ]
  },
  {
   "cell_type": "code",
   "execution_count": 24,
   "metadata": {},
   "outputs": [
    {
     "name": "stdout",
     "output_type": "stream",
     "text": [
      "root\n",
      " |-- age: integer (nullable = true)\n",
      " |-- job: string (nullable = true)\n",
      " |-- marital: string (nullable = true)\n",
      " |-- education: string (nullable = true)\n",
      " |-- default: string (nullable = true)\n",
      " |-- housing: string (nullable = true)\n",
      " |-- loan: string (nullable = true)\n",
      " |-- contact: string (nullable = true)\n",
      " |-- month: string (nullable = true)\n",
      " |-- day_of_week: string (nullable = true)\n",
      " |-- duration: integer (nullable = true)\n",
      " |-- campaign: integer (nullable = true)\n",
      " |-- pdays: integer (nullable = true)\n",
      " |-- previous: integer (nullable = true)\n",
      " |-- poutcome: string (nullable = true)\n",
      " |-- emp_var_rate: double (nullable = true)\n",
      " |-- cons_price_idx: double (nullable = true)\n",
      " |-- cons_conf_idx: double (nullable = true)\n",
      " |-- euribor3m: double (nullable = true)\n",
      " |-- nr_employed: double (nullable = true)\n",
      " |-- y: string (nullable = true)\n",
      "\n"
     ]
    }
   ],
   "source": [
    "sdf.printSchema()"
   ]
  },
  {
   "cell_type": "code",
   "execution_count": 8,
   "metadata": {},
   "outputs": [
    {
     "data": {
      "text/plain": [
       "41188"
      ]
     },
     "execution_count": 8,
     "metadata": {},
     "output_type": "execute_result"
    }
   ],
   "source": [
    "sdf.count()"
   ]
  },
  {
   "cell_type": "code",
   "execution_count": 9,
   "metadata": {},
   "outputs": [
    {
     "data": {
      "text/plain": [
       "y\n",
       "no     36548\n",
       "yes     4640\n",
       "dtype: int64"
      ]
     },
     "execution_count": 9,
     "metadata": {},
     "output_type": "execute_result"
    }
   ],
   "source": [
    "sdf.toPandas().groupby(['y']).size()"
   ]
  },
  {
   "cell_type": "code",
   "execution_count": 10,
   "metadata": {},
   "outputs": [
    {
     "data": {
      "text/html": [
       "<div>\n",
       "<style scoped>\n",
       "    .dataframe tbody tr th:only-of-type {\n",
       "        vertical-align: middle;\n",
       "    }\n",
       "\n",
       "    .dataframe tbody tr th {\n",
       "        vertical-align: top;\n",
       "    }\n",
       "\n",
       "    .dataframe thead th {\n",
       "        text-align: right;\n",
       "    }\n",
       "</style>\n",
       "<table border=\"1\" class=\"dataframe\">\n",
       "  <thead>\n",
       "    <tr style=\"text-align: right;\">\n",
       "      <th></th>\n",
       "      <th>0</th>\n",
       "      <th>1</th>\n",
       "      <th>2</th>\n",
       "      <th>3</th>\n",
       "      <th>4</th>\n",
       "    </tr>\n",
       "  </thead>\n",
       "  <tbody>\n",
       "    <tr>\n",
       "      <th>summary</th>\n",
       "      <td>count</td>\n",
       "      <td>mean</td>\n",
       "      <td>stddev</td>\n",
       "      <td>min</td>\n",
       "      <td>max</td>\n",
       "    </tr>\n",
       "    <tr>\n",
       "      <th>age</th>\n",
       "      <td>41188</td>\n",
       "      <td>40.02406040594348</td>\n",
       "      <td>10.421249980934057</td>\n",
       "      <td>17</td>\n",
       "      <td>98</td>\n",
       "    </tr>\n",
       "    <tr>\n",
       "      <th>duration</th>\n",
       "      <td>41188</td>\n",
       "      <td>258.2850101971448</td>\n",
       "      <td>259.279248836465</td>\n",
       "      <td>0</td>\n",
       "      <td>4918</td>\n",
       "    </tr>\n",
       "    <tr>\n",
       "      <th>campaign</th>\n",
       "      <td>41188</td>\n",
       "      <td>2.567592502670681</td>\n",
       "      <td>2.7700135429023245</td>\n",
       "      <td>1</td>\n",
       "      <td>56</td>\n",
       "    </tr>\n",
       "    <tr>\n",
       "      <th>pdays</th>\n",
       "      <td>41188</td>\n",
       "      <td>962.4754540157328</td>\n",
       "      <td>186.91090734474085</td>\n",
       "      <td>0</td>\n",
       "      <td>999</td>\n",
       "    </tr>\n",
       "    <tr>\n",
       "      <th>previous</th>\n",
       "      <td>41188</td>\n",
       "      <td>0.17296299893172767</td>\n",
       "      <td>0.4949010798392899</td>\n",
       "      <td>0</td>\n",
       "      <td>7</td>\n",
       "    </tr>\n",
       "  </tbody>\n",
       "</table>\n",
       "</div>"
      ],
      "text/plain": [
       "              0                    1                   2    3     4\n",
       "summary   count                 mean              stddev  min   max\n",
       "age       41188    40.02406040594348  10.421249980934057   17    98\n",
       "duration  41188    258.2850101971448    259.279248836465    0  4918\n",
       "campaign  41188    2.567592502670681  2.7700135429023245    1    56\n",
       "pdays     41188    962.4754540157328  186.91090734474085    0   999\n",
       "previous  41188  0.17296299893172767  0.4949010798392899    0     7"
      ]
     },
     "execution_count": 10,
     "metadata": {},
     "output_type": "execute_result"
    }
   ],
   "source": [
    "numeric_features = [t[0] for t in sdf.dtypes if t[1] == 'int']\n",
    "sdf.select(numeric_features).describe().toPandas().transpose()"
   ]
  },
  {
   "cell_type": "code",
   "execution_count": 13,
   "metadata": {
    "scrolled": true
   },
   "outputs": [
    {
     "data": {
      "image/png": "[encoded data removed]",
      "text/plain": [
       "<Figure size 576x576 with 25 Axes>"
      ]
     },
     "metadata": {},
     "output_type": "display_data"
    }
   ],
   "source": [
    "import pandas as pd\n",
    "numeric_data = sdf.select(numeric_features).toPandas()\n",
    "axs = pd.plotting.scatter_matrix(numeric_data, figsize=(8, 8));\n",
    "n = len(numeric_data.columns)\n",
    "\n",
    "for i in range(n):\n",
    "    v = axs[i, 0]\n",
    "    v.yaxis.label.set_rotation(0)\n",
    "    v.yaxis.label.set_ha('right')\n",
    "    v.set_yticks(())\n",
    "    h = axs[n-1, i]\n",
    "    h.xaxis.label.set_rotation(90)\n",
    "    h.set_xticks(())"
   ]
  },
  {
   "cell_type": "markdown",
   "metadata": {},
   "source": [
    "day_of_week dan month akan di-drop karena kurang berguna untuk membangun model"
   ]
  },
  {
   "cell_type": "code",
   "execution_count": 27,
   "metadata": {},
   "outputs": [
    {
     "name": "stdout",
     "output_type": "stream",
     "text": [
      "root\n",
      " |-- age: integer (nullable = true)\n",
      " |-- job: string (nullable = true)\n",
      " |-- marital: string (nullable = true)\n",
      " |-- education: string (nullable = true)\n",
      " |-- default: string (nullable = true)\n",
      " |-- housing: string (nullable = true)\n",
      " |-- loan: string (nullable = true)\n",
      " |-- contact: string (nullable = true)\n",
      " |-- duration: integer (nullable = true)\n",
      " |-- campaign: integer (nullable = true)\n",
      " |-- pdays: integer (nullable = true)\n",
      " |-- poutcome: string (nullable = true)\n",
      " |-- emp_var_rate: double (nullable = true)\n",
      " |-- cons_price_idx: double (nullable = true)\n",
      " |-- cons_conf_idx: double (nullable = true)\n",
      " |-- euribor3m: double (nullable = true)\n",
      " |-- nr_employed: double (nullable = true)\n",
      " |-- y: string (nullable = true)\n",
      "\n"
     ]
    }
   ],
   "source": [
    "sdf = sdf.select(\n",
    "    'age', 'job', 'marital', 'education', 'default', 'housing', 'loan', \n",
    "    'contact', 'duration', 'campaign', 'pdays', 'poutcome', 'emp_var_rate',\n",
    "    'cons_price_idx', 'cons_conf_idx', 'euribor3m', 'nr_employed', 'y'\n",
    ")\n",
    "cols = sdf.columns\n",
    "sdf.printSchema()"
   ]
  },
  {
   "cell_type": "markdown",
   "metadata": {},
   "source": [
    "### Prepare Dataset for Machine Learning"
   ]
  },
  {
   "cell_type": "code",
   "execution_count": 34,
   "metadata": {},
   "outputs": [],
   "source": [
    "from pyspark.ml.feature import OneHotEncoder, StringIndexer, VectorAssembler\n",
    "\n",
    "stages = []\n",
    "categoricalColumns = [\n",
    "    'job', 'marital', 'education', 'default', 'housing', 'loan', 'contact', 'poutcome'\n",
    "]\n",
    "\n",
    "for categoricalCol in categoricalColumns:\n",
    "    stringIndexer = StringIndexer(inputCol = categoricalCol, outputCol = categoricalCol + 'Index')\n",
    "    encoder = OneHotEncoder(\n",
    "        inputCols=[stringIndexer.getOutputCol()], \n",
    "        outputCols=[categoricalCol + \"classVec\"]\n",
    "    )\n",
    "    stages += [stringIndexer, encoder]\n",
    "    \n",
    "label_stringIdx = StringIndexer(inputCol = 'y', outputCol = 'label')\n",
    "stages += [label_stringIdx]\n",
    "numericCols = ['age', 'duration', 'campaign', 'pdays', 'emp_var_rate', 'cons_price_idx', \n",
    "               'cons_conf_idx', 'euribor3m', 'nr_employed']\n",
    "assemblerInputs = [c + \"classVec\" for c in categoricalColumns] + numericCols\n",
    "assembler = VectorAssembler(inputCols=assemblerInputs, outputCol=\"features\")\n",
    "stages += [assembler]"
   ]
  },
  {
   "cell_type": "markdown",
   "metadata": {},
   "source": [
    "Pipeline"
   ]
  },
  {
   "cell_type": "code",
   "execution_count": 35,
   "metadata": {},
   "outputs": [
    {
     "name": "stdout",
     "output_type": "stream",
     "text": [
      "root\n",
      " |-- label: double (nullable = false)\n",
      " |-- features: vector (nullable = true)\n",
      " |-- age: integer (nullable = true)\n",
      " |-- job: string (nullable = true)\n",
      " |-- marital: string (nullable = true)\n",
      " |-- education: string (nullable = true)\n",
      " |-- default: string (nullable = true)\n",
      " |-- housing: string (nullable = true)\n",
      " |-- loan: string (nullable = true)\n",
      " |-- contact: string (nullable = true)\n",
      " |-- duration: integer (nullable = true)\n",
      " |-- campaign: integer (nullable = true)\n",
      " |-- pdays: integer (nullable = true)\n",
      " |-- poutcome: string (nullable = true)\n",
      " |-- emp_var_rate: double (nullable = true)\n",
      " |-- cons_price_idx: double (nullable = true)\n",
      " |-- cons_conf_idx: double (nullable = true)\n",
      " |-- euribor3m: double (nullable = true)\n",
      " |-- nr_employed: double (nullable = true)\n",
      " |-- y: string (nullable = true)\n",
      "\n"
     ]
    }
   ],
   "source": [
    "from pyspark.ml import Pipeline\n",
    "\n",
    "pipeline = Pipeline(stages = stages)\n",
    "pipelineModel = pipeline.fit(sdf)\n",
    "sdf = pipelineModel.transform(sdf)\n",
    "selectedCols = ['label', 'features'] + cols\n",
    "sdf = sdf.select(selectedCols)\n",
    "sdf.printSchema()"
   ]
  },
  {
   "cell_type": "code",
   "execution_count": 36,
   "metadata": {},
   "outputs": [
    {
     "data": {
      "text/html": [
       "<div>\n",
       "<style scoped>\n",
       "    .dataframe tbody tr th:only-of-type {\n",
       "        vertical-align: middle;\n",
       "    }\n",
       "\n",
       "    .dataframe tbody tr th {\n",
       "        vertical-align: top;\n",
       "    }\n",
       "\n",
       "    .dataframe thead th {\n",
       "        text-align: right;\n",
       "    }\n",
       "</style>\n",
       "<table border=\"1\" class=\"dataframe\">\n",
       "  <thead>\n",
       "    <tr style=\"text-align: right;\">\n",
       "      <th></th>\n",
       "      <th>label</th>\n",
       "      <th>features</th>\n",
       "    </tr>\n",
       "  </thead>\n",
       "  <tbody>\n",
       "    <tr>\n",
       "      <th>0</th>\n",
       "      <td>0.0</td>\n",
       "      <td>(0.0, 0.0, 0.0, 0.0, 0.0, 0.0, 0.0, 0.0, 1.0, ...</td>\n",
       "    </tr>\n",
       "    <tr>\n",
       "      <th>1</th>\n",
       "      <td>0.0</td>\n",
       "      <td>(0.0, 0.0, 0.0, 1.0, 0.0, 0.0, 0.0, 0.0, 0.0, ...</td>\n",
       "    </tr>\n",
       "    <tr>\n",
       "      <th>2</th>\n",
       "      <td>0.0</td>\n",
       "      <td>(0.0, 0.0, 0.0, 1.0, 0.0, 0.0, 0.0, 0.0, 0.0, ...</td>\n",
       "    </tr>\n",
       "    <tr>\n",
       "      <th>3</th>\n",
       "      <td>0.0</td>\n",
       "      <td>(1.0, 0.0, 0.0, 0.0, 0.0, 0.0, 0.0, 0.0, 0.0, ...</td>\n",
       "    </tr>\n",
       "    <tr>\n",
       "      <th>4</th>\n",
       "      <td>0.0</td>\n",
       "      <td>(0.0, 0.0, 0.0, 1.0, 0.0, 0.0, 0.0, 0.0, 0.0, ...</td>\n",
       "    </tr>\n",
       "  </tbody>\n",
       "</table>\n",
       "</div>"
      ],
      "text/plain": [
       "   label                                           features\n",
       "0    0.0  (0.0, 0.0, 0.0, 0.0, 0.0, 0.0, 0.0, 0.0, 1.0, ...\n",
       "1    0.0  (0.0, 0.0, 0.0, 1.0, 0.0, 0.0, 0.0, 0.0, 0.0, ...\n",
       "2    0.0  (0.0, 0.0, 0.0, 1.0, 0.0, 0.0, 0.0, 0.0, 0.0, ...\n",
       "3    0.0  (1.0, 0.0, 0.0, 0.0, 0.0, 0.0, 0.0, 0.0, 0.0, ...\n",
       "4    0.0  (0.0, 0.0, 0.0, 1.0, 0.0, 0.0, 0.0, 0.0, 0.0, ..."
      ]
     },
     "execution_count": 36,
     "metadata": {},
     "output_type": "execute_result"
    }
   ],
   "source": [
    "pdf = pd.DataFrame(sdf.take(5), columns=sdf.columns)\n",
    "pdf.iloc[:,0:2]"
   ]
  },
  {
   "cell_type": "code",
   "execution_count": 37,
   "metadata": {},
   "outputs": [
    {
     "data": {
      "text/plain": [
       "39"
      ]
     },
     "execution_count": 37,
     "metadata": {},
     "output_type": "execute_result"
    }
   ],
   "source": [
    "len(pdf.features[0])"
   ]
  },
  {
   "cell_type": "markdown",
   "metadata": {},
   "source": [
    "Split dataset into train and test set"
   ]
  },
  {
   "cell_type": "code",
   "execution_count": 38,
   "metadata": {},
   "outputs": [
    {
     "name": "stdout",
     "output_type": "stream",
     "text": [
      "Training Dataset Count: 28839\n",
      "Test Dataset Count: 12349\n"
     ]
    }
   ],
   "source": [
    "train, test = sdf.randomSplit([0.7, 0.3], seed = 2018)\n",
    "print(\"Training Dataset Count: \" + str(train.count()))\n",
    "print(\"Test Dataset Count: \" + str(test.count()))"
   ]
  },
  {
   "cell_type": "markdown",
   "metadata": {},
   "source": [
    "## Logistic Regression Model"
   ]
  },
  {
   "cell_type": "code",
   "execution_count": 39,
   "metadata": {},
   "outputs": [],
   "source": [
    "from pyspark.ml.classification import LogisticRegression\n",
    "\n",
    "lr = LogisticRegression(featuresCol = 'features', labelCol = 'label', maxIter=10)\n",
    "lrModel = lr.fit(train)"
   ]
  },
  {
   "cell_type": "markdown",
   "metadata": {},
   "source": [
    "We can obtain the coefficients by using LogisticRegressionModel’s attributes."
   ]
  },
  {
   "cell_type": "code",
   "execution_count": 41,
   "metadata": {},
   "outputs": [
    {
     "data": {
      "image/png": "[encoded data removed]",
      "text/plain": [
       "<Figure size 432x288 with 1 Axes>"
      ]
     },
     "metadata": {},
     "output_type": "display_data"
    }
   ],
   "source": [
    "from matplotlib import pyplot as plt\n",
    "import numpy as np\n",
    "\n",
    "beta = np.sort(lrModel.coefficients)\n",
    "plt.plot(beta)\n",
    "plt.ylabel('Beta Coefficients')\n",
    "plt.show()"
   ]
  },
  {
   "cell_type": "code",
   "execution_count": 42,
   "metadata": {},
   "outputs": [
    {
     "data": {
      "image/png": "[encoded data removed]",
      "text/plain": [
       "<Figure size 432x288 with 1 Axes>"
      ]
     },
     "metadata": {},
     "output_type": "display_data"
    },
    {
     "name": "stdout",
     "output_type": "stream",
     "text": [
      "Training set areaUnderROC: 0.8758131450197727\n"
     ]
    }
   ],
   "source": [
    "trainingSummary = lrModel.summary\n",
    "lrROC = trainingSummary.roc.toPandas()\n",
    "\n",
    "plt.plot(lrROC['FPR'],lrROC['TPR'])\n",
    "plt.ylabel('False Positive Rate')\n",
    "plt.xlabel('True Positive Rate')\n",
    "plt.title('ROC Curve')\n",
    "plt.show()\n",
    "\n",
    "print('Training set areaUnderROC: ' + str(trainingSummary.areaUnderROC))"
   ]
  },
  {
   "cell_type": "markdown",
   "metadata": {},
   "source": [
    "Precission and Recall"
   ]
  },
  {
   "cell_type": "code",
   "execution_count": 43,
   "metadata": {},
   "outputs": [
    {
     "data": {
      "image/png": "[encoded data removed]",
      "text/plain": [
       "<Figure size 432x288 with 1 Axes>"
      ]
     },
     "metadata": {},
     "output_type": "display_data"
    }
   ],
   "source": [
    "pr = trainingSummary.pr.toPandas()\n",
    "plt.plot(pr['recall'],pr['precision'])\n",
    "plt.ylabel('Precision')\n",
    "plt.xlabel('Recall')\n",
    "plt.show()"
   ]
  },
  {
   "cell_type": "markdown",
   "metadata": {},
   "source": [
    "Make predictions on the test set"
   ]
  },
  {
   "cell_type": "code",
   "execution_count": 45,
   "metadata": {},
   "outputs": [
    {
     "name": "stdout",
     "output_type": "stream",
     "text": [
      "+---+------+-----+--------------------+----------+--------------------+\n",
      "|age|   job|label|       rawPrediction|prediction|         probability|\n",
      "+---+------+-----+--------------------+----------+--------------------+\n",
      "| 24|admin.|  0.0|[3.42884977539604...|       0.0|[0.96859409726418...|\n",
      "| 28|admin.|  0.0|[2.01717298629514...|       0.0|[0.88258837332055...|\n",
      "| 28|admin.|  0.0|[2.80729796783104...|       0.0|[0.94306892082794...|\n",
      "| 29|admin.|  0.0|[3.58670838133893...|       0.0|[0.97305671796889...|\n",
      "| 29|admin.|  0.0|[3.64297233907579...|       0.0|[0.97449319705135...|\n",
      "| 29|admin.|  0.0|[3.02635641450575...|       0.0|[0.95375071882059...|\n",
      "| 29|admin.|  0.0|[3.34942948690488...|       0.0|[0.96608614868936...|\n",
      "| 30|admin.|  0.0|[3.49886413170705...|       0.0|[0.97065543307626...|\n",
      "| 30|admin.|  0.0|[3.44497801165290...|       0.0|[0.96908102078216...|\n",
      "| 30|admin.|  0.0|[3.36583277282335...|       0.0|[0.96661949151273...|\n",
      "+---+------+-----+--------------------+----------+--------------------+\n",
      "only showing top 10 rows\n",
      "\n"
     ]
    }
   ],
   "source": [
    "lrPreds = lrModel.transform(test)\n",
    "lrPreds.select('age', 'job', 'label', 'rawPrediction', 'prediction', 'probability').show(10)"
   ]
  },
  {
   "cell_type": "code",
   "execution_count": 46,
   "metadata": {},
   "outputs": [
    {
     "name": "stdout",
     "output_type": "stream",
     "text": [
      "+-----+--------------------+---+------+-------+-----------------+-------+-------+----+--------+--------+--------+-----+-----------+------------+--------------+-------------+---------+-----------+---+--------------------+--------------------+----------+\n",
      "|label|            features|age|   job|marital|        education|default|housing|loan| contact|duration|campaign|pdays|   poutcome|emp_var_rate|cons_price_idx|cons_conf_idx|euribor3m|nr_employed|  y|       rawPrediction|         probability|prediction|\n",
      "+-----+--------------------+---+------+-------+-----------------+-------+-------+----+--------+--------+--------+-----+-----------+------------+--------------+-------------+---------+-----------+---+--------------------+--------------------+----------+\n",
      "|  0.0|(39,[0,11,14,21,2...| 24|admin.|married|university.degree|     no|    yes|  no|cellular|     134|       1|  999|nonexistent|         1.4|        93.918|        -42.7|    4.963|     5228.1| no|[3.42884977539604...|[0.96859409726418...|       0.0|\n",
      "|  0.0|(39,[0,11,14,21,2...| 28|admin.|married|university.degree|     no|    yes|  no|cellular|      63|       1|  999|nonexistent|        -1.8|        93.075|        -47.1|    1.365|     5099.1| no|[2.01717298629514...|[0.88258837332055...|       0.0|\n",
      "|  0.0|(39,[0,11,14,21,2...| 28|admin.|married|university.degree|     no|    yes|  no|cellular|     510|       2|  999|nonexistent|         1.4|        93.918|        -42.7|    4.963|     5228.1| no|[2.80729796783104...|[0.94306892082794...|       0.0|\n",
      "|  0.0|(39,[0,11,14,21,2...| 29|admin.|married|university.degree|     no|    yes|  no|cellular|      31|       1|  999|nonexistent|         1.4|        93.918|        -42.7|    4.962|     5228.1| no|[3.58670838133893...|[0.97305671796889...|       0.0|\n",
      "|  0.0|(39,[0,11,14,21,2...| 29|admin.|married|university.degree|     no|    yes|  no|cellular|      63|       4|  999|nonexistent|         1.4|        93.444|        -36.1|    4.964|     5228.1| no|[3.64297233907579...|[0.97449319705135...|       0.0|\n",
      "|  0.0|(39,[0,11,14,21,2...| 29|admin.|married|university.degree|     no|    yes|  no|cellular|     117|       1|  999|nonexistent|        -0.1|          93.2|        -42.0|     4.12|     5195.8| no|[3.02635641450575...|[0.95375071882059...|       0.0|\n",
      "|  0.0|(39,[0,11,14,21,2...| 29|admin.|married|university.degree|     no|    yes|  no|cellular|     209|       2|  999|nonexistent|         1.4|        93.444|        -36.1|    4.965|     5228.1| no|[3.34942948690488...|[0.96608614868936...|       0.0|\n",
      "|  0.0|(39,[0,11,14,21,2...| 30|admin.|married|university.degree|     no|    yes|  no|cellular|     104|       1|  999|nonexistent|         1.4|        93.444|        -36.1|    4.963|     5228.1| no|[3.49886413170705...|[0.97065543307626...|       0.0|\n",
      "|  0.0|(39,[0,11,14,21,2...| 30|admin.|married|university.degree|     no|    yes|  no|cellular|     136|       1|  999|nonexistent|         1.4|        93.444|        -36.1|    4.963|     5228.1| no|[3.44497801165290...|[0.96908102078216...|       0.0|\n",
      "|  0.0|(39,[0,11,14,21,2...| 30|admin.|married|university.degree|     no|    yes|  no|cellular|     183|       1|  999|nonexistent|         1.4|        93.444|        -36.1|    4.963|     5228.1| no|[3.36583277282335...|[0.96661949151273...|       0.0|\n",
      "|  0.0|(39,[0,11,14,21,2...| 30|admin.|married|university.degree|     no|    yes|  no|cellular|     358|       1|  999|nonexistent|        -1.8|        92.893|        -46.2|    1.291|     5099.1| no|[1.53119925680958...|[0.82218171204235...|       0.0|\n",
      "|  0.0|(39,[0,11,14,21,2...| 30|admin.|married|university.degree|     no|    yes|  no|cellular|    1150|       1|  999|nonexistent|         1.4|        93.918|        -42.7|    4.957|     5228.1| no|[1.69838829734965...|[0.84532412004225...|       0.0|\n",
      "|  0.0|(39,[0,11,14,21,2...| 31|admin.|married|university.degree|     no|    yes|  no|cellular|      71|       2|  999|nonexistent|        -0.1|          93.2|        -42.0|    4.153|     5195.8| no|[3.12758749501916...|[0.95801646692902...|       0.0|\n",
      "|  0.0|(39,[0,11,14,21,2...| 31|admin.|married|university.degree|     no|    yes|  no|cellular|      80|       1|  999|nonexistent|         1.4|        93.444|        -36.1|    4.962|     5228.1| no|[3.53601586069318...|[0.97169533991701...|       0.0|\n",
      "|  0.0|(39,[0,11,14,21,2...| 31|admin.|married|university.degree|     no|    yes|  no|cellular|     104|       2|  999|nonexistent|         1.4|        93.444|        -36.1|    4.963|     5228.1| no|[3.51971759622360...|[0.97124361774010...|       0.0|\n",
      "|  0.0|(39,[0,11,14,21,2...| 31|admin.|married|university.degree|     no|    yes|  no|cellular|     244|       1|  999|nonexistent|         1.4|        93.444|        -36.1|     4.97|     5228.1| no|[3.26130341999763...|[0.96307716770048...|       0.0|\n",
      "|  0.0|(39,[0,11,14,21,2...| 31|admin.|married|university.degree|     no|    yes|  no|cellular|     280|       7|  999|nonexistent|         1.4|        93.444|        -36.1|    4.963|     5228.1| no|[3.34301686091718...|[0.96587541820570...|       0.0|\n",
      "|  0.0|(39,[0,11,14,21,2...| 31|admin.|married|university.degree|     no|    yes|  no|cellular|     712|       1|  999|nonexistent|        -1.8|        92.893|        -46.2|    1.299|     5099.1| no|[0.93345685781074...|[0.71777608042631...|       0.0|\n",
      "|  0.0|(39,[0,11,14,21,2...| 31|admin.|married|university.degree|     no|    yes|  no|cellular|    1037|       4|  999|nonexistent|         1.4|        93.444|        -36.1|    4.962|     5228.1| no|[1.99628783781843...|[0.88040677348221...|       0.0|\n",
      "|  0.0|(39,[0,11,14,21,2...| 32|admin.|married|university.degree|     no|    yes|  no|cellular|      72|       1|  999|nonexistent|         1.4|        93.918|        -42.7|    4.958|     5228.1| no|[3.50769646628333...|[0.97090596546579...|       0.0|\n",
      "+-----+--------------------+---+------+-------+-----------------+-------+-------+----+--------+--------+--------+-----+-----------+------------+--------------+-------------+---------+-----------+---+--------------------+--------------------+----------+\n",
      "only showing top 20 rows\n",
      "\n"
     ]
    }
   ],
   "source": [
    "lrPreds.show()"
   ]
  },
  {
   "cell_type": "markdown",
   "metadata": {},
   "source": [
    "Evaluate the Logistic Regression model"
   ]
  },
  {
   "cell_type": "code",
   "execution_count": 48,
   "metadata": {},
   "outputs": [
    {
     "name": "stdout",
     "output_type": "stream",
     "text": [
      "Test Area Under ROC 0.8718611272767518\n"
     ]
    }
   ],
   "source": [
    "from pyspark.ml.evaluation import BinaryClassificationEvaluator\n",
    "\n",
    "lrEval = BinaryClassificationEvaluator()\n",
    "print('Test Area Under ROC', lrEval.evaluate(lrPreds))"
   ]
  },
  {
   "cell_type": "code",
   "execution_count": null,
   "metadata": {},
   "outputs": [],
   "source": []
  }
 ],
 "metadata": {
  "kernelspec": {
   "display_name": "Python 3",
   "language": "python",
   "name": "python3"
  },
  "language_info": {
   "codemirror_mode": {
    "name": "ipython",
    "version": 3
   },
   "file_extension": ".py",
   "mimetype": "text/x-python",
   "name": "python",
   "nbconvert_exporter": "python",
   "pygments_lexer": "ipython3",
   "version": "3.6.5"
  }
 },
 "nbformat": 4,
 "nbformat_minor": 2
}
